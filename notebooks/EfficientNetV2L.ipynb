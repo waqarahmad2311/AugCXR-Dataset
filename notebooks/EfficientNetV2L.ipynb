{
 "cells": [
  {
   "cell_type": "code",
   "execution_count": null,
   "id": "e3c669d0-8723-4134-94cc-9b56f1c12c3b",
   "metadata": {},
   "outputs": [],
   "source": [
    "# importing libraries\n",
    "\n",
    "import tensorflow as tf\n",
    "from tensorflow.keras.applications import EfficientNetV2L\n",
    "from tensorflow.keras.layers import Dense, GlobalAveragePooling2D\n",
    "from tensorflow.keras.models import Model\n",
    "from tensorflow.keras.optimizers import Adam\n",
    "from tensorflow.keras.callbacks import ModelCheckpoint\n",
    "from tensorflow.keras.preprocessing.image import ImageDataGenerator\n",
    "from sklearn.metrics import confusion_matrix, ConfusionMatrixDisplay, precision_recall_fscore_support\n",
    "import numpy as np\n",
    "import matplotlib.pyplot as plt\n",
    "import seaborn as sns\n",
    "from sklearn.metrics import roc_curve, roc_auc_score\n",
    "import random"
   ]
  },
  {
   "cell_type": "code",
   "execution_count": null,
   "id": "2ac4f8b5-7fcd-4318-9aab-d8e7989ead82",
   "metadata": {},
   "outputs": [],
   "source": [
    "# Setting the random seeds for the reproducibility of the results\n",
    "# The segments of the code were taken from\n",
    "# https://keras.io/api/utils/python_utils/#set_random_seed-function\n",
    "# https://github.com/keras-team/keras\n",
    "\n",
    "tf.random.set_seed(5)\n",
    "np.random.seed(5)\n",
    "random.seed(5)"
   ]
  },
  {
   "cell_type": "code",
   "execution_count": null,
   "id": "10329804-48a8-4e4a-b384-10cccf99d487",
   "metadata": {},
   "outputs": [],
   "source": [
    "# Setting image size and batch size\n",
    "img_size = (128, 128)\n",
    "batch_size = 64"
   ]
  },
  {
   "cell_type": "code",
   "execution_count": null,
   "id": "d66bb1c2-36f1-428d-ba1a-e2f067287893",
   "metadata": {},
   "outputs": [],
   "source": [
    "# Data Augmentation and Normalization for Train, Validation, and Test sets\n",
    "train_datagen = ImageDataGenerator(rescale=1.0/255)\n",
    "validate_datagen = ImageDataGenerator(rescale=1.0/255)\n",
    "test_datagen = ImageDataGenerator(rescale=1.0/255)\n",
    "\n",
    "\n",
    "# Load Train, Validation, and Test data from directories\n",
    "train_data = train_datagen.flow_from_directory(\n",
    "    'dataset/aug2/train',\n",
    "    target_size=img_size,\n",
    "    batch_size=batch_size,\n",
    "    class_mode='binary'  \n",
    ")\n",
    "\n",
    "val_data = validate_datagen.flow_from_directory(\n",
    "    'dataset/aug2/val',\n",
    "    target_size=img_size,\n",
    "    batch_size=batch_size,\n",
    "    class_mode='binary'\n",
    ")\n",
    "\n",
    "test_data = test_datagen.flow_from_directory(\n",
    "    'dataset/aug2/test',\n",
    "    target_size=img_size,\n",
    "    batch_size=batch_size,\n",
    "    class_mode='binary',\n",
    "    shuffle=False  \n",
    ")"
   ]
  },
  {
   "cell_type": "code",
   "execution_count": null,
   "id": "b641212f-3ce4-4fc5-96ee-da0e878ab902",
   "metadata": {},
   "outputs": [],
   "source": [
    "# Loading the EfficientNetV2L model with ImageNet weights, excluding top layers\n",
    "base_model = EfficientNetV2L(weights='imagenet', include_top=False, input_shape=(128, 128, 3))\n",
    "\n",
    "# Freeze all layers first\n",
    "for layer in base_model.layers:\n",
    "    layer.trainable = False\n",
    "\n",
    "# Unfreeze only the last 5 layers\n",
    "for layer in base_model.layers[-20:]:\n",
    "    layer.trainable = True\n",
    "\n",
    "# Add custom top layers\n",
    "x = base_model.output\n",
    "x = GlobalAveragePooling2D()(x)\n",
    "x = Dense(1024, activation='relu')(x)\n",
    "x = Dense(512, activation='relu')(x)\n",
    "predictions = Dense(1, activation='sigmoid')(x)  # Sigmoid activation for binary classification"
   ]
  },
  {
   "cell_type": "code",
   "execution_count": null,
   "id": "dcc56eb2-5404-421d-af25-11db01950e00",
   "metadata": {},
   "outputs": [],
   "source": [
    "# Define the model\n",
    "model = Model(inputs=base_model.input, outputs=predictions)\n",
    "\n",
    "# Compile the model\n",
    "model.compile(optimizer=Adam(learning_rate=0.0001), loss='binary_crossentropy', metrics=['accuracy'])"
   ]
  },
  {
   "cell_type": "code",
   "execution_count": null,
   "id": "32bc5109-8042-48c8-bbf3-41d83a80fa85",
   "metadata": {},
   "outputs": [],
   "source": [
    "# Print the model summary\n",
    "model.summary()"
   ]
  },
  {
   "cell_type": "code",
   "execution_count": null,
   "id": "e74a2e90-465b-4263-ad1f-9f890ca8c697",
   "metadata": {
    "scrolled": true
   },
   "outputs": [],
   "source": [
    "# Training the model\n",
    "\n",
    "# Train the model on your dataset with class weights and early stopping\n",
    "history = model.fit(train_data, epochs=60, validation_data=val_data)"
   ]
  },
  {
   "cell_type": "code",
   "execution_count": null,
   "id": "1a483535-5d74-41e5-ac18-928c18b7c840",
   "metadata": {},
   "outputs": [],
   "source": [
    "# Evaluate on test data\n",
    "test_loss, test_acc = model.evaluate(test_data)\n",
    "print(f\"Test Accuracy: {test_acc * 100:.2f}%\")"
   ]
  },
  {
   "cell_type": "code",
   "execution_count": null,
   "id": "41c678e7-b51c-4aa8-be87-d0bade9e388e",
   "metadata": {},
   "outputs": [],
   "source": [
    "# Calculate Precision, Recall, and F1-Score\n",
    "test_data.reset()\n",
    "Y_pred = model.predict(test_data)\n",
    "y_pred = (Y_pred > 0.5).astype(int)\n",
    "y_true = test_data.classes\n",
    "\n",
    "precision, recall, f1, _ = precision_recall_fscore_support(y_true, y_pred, average='binary')\n",
    "print(f\"Precision: {precision:.2f}\")\n",
    "print(f\"Recall: {recall:.2f}\")\n",
    "print(f\"F1-Score: {f1:.2f}\")"
   ]
  },
  {
   "cell_type": "code",
   "execution_count": null,
   "id": "d8053053-8c57-496d-80fd-911745164438",
   "metadata": {},
   "outputs": [],
   "source": [
    "# Confusion Matrix\n",
    "\n",
    "# Plot Confusion Matrix\n",
    "cm = confusion_matrix(y_true, y_pred)\n",
    "disp = ConfusionMatrixDisplay(confusion_matrix=cm, display_labels=test_data.class_indices.keys())\n",
    "disp.plot(cmap=plt.cm.Blues)\n",
    "plt.savefig('confusion_matrix2.png')\n",
    "plt.show()"
   ]
  },
  {
   "cell_type": "code",
   "execution_count": null,
   "id": "c3821250-c2fa-49f8-a84a-6fe78f0e1a2a",
   "metadata": {},
   "outputs": [],
   "source": [
    "# Plot Training & Validation Accuracy\n",
    "\n",
    "plt.figure(figsize=(8, 6))\n",
    "plt.plot(history.history['accuracy'])\n",
    "plt.plot(history.history['val_accuracy'])\n",
    "plt.title('Model accuracy')\n",
    "plt.ylabel('Accuracy')\n",
    "plt.xlabel('Epoch')\n",
    "plt.legend(['Training Accuracy', 'Validation Accuracy'], loc='lower right')\n",
    "plt.xlim(0, 33)\n",
    "plt.ylim(0.5, 0.9)\n",
    "plt.savefig('model_accuracy.png')\n",
    "plt.show()"
   ]
  },
  {
   "cell_type": "code",
   "execution_count": null,
   "id": "4eee4841-0623-49d0-995f-804f288cb370",
   "metadata": {},
   "outputs": [],
   "source": [
    "# Plot Training & Validation Loss\n",
    "\n",
    "plt.figure(figsize=(8, 6))\n",
    "plt.plot(history.history['loss'])\n",
    "plt.plot(history.history['val_loss'])\n",
    "plt.title('Model loss')\n",
    "plt.ylabel('Loss')\n",
    "plt.xlabel('Epoch')\n",
    "plt.legend(['Training Loss', 'Validation Loss'], loc='upper right')\n",
    "plt.xlim(0, 33)\n",
    "plt.ylim(0.3, 0.8)\n",
    "plt.savefig('model_loss.png')\n",
    "plt.show()"
   ]
  },
  {
   "cell_type": "code",
   "execution_count": null,
   "id": "6ba40d08-2d08-4ae1-9d33-8db4967374be",
   "metadata": {},
   "outputs": [],
   "source": [
    "# Compute ROC Curve and AUC\n",
    "fpr, tpr, thresholds = roc_curve(y_true, Y_pred)\n",
    "auc_score = roc_auc_score(y_true, Y_pred)\n",
    "print(f\"AUC Score: {auc_score:.2f}\")"
   ]
  },
  {
   "cell_type": "code",
   "execution_count": null,
   "id": "ed74e25d-396a-4031-9ef1-2ea02af059f0",
   "metadata": {},
   "outputs": [],
   "source": [
    "# Plot ROC Curve\n",
    "plt.figure(figsize=(8, 6))\n",
    "plt.plot(fpr, tpr, color='darkorange', lw=2, label=f'ROC curve (AUC = {auc_score:.2f})')\n",
    "plt.plot([0, 1], [0, 1], color='navy', lw=2, linestyle='--')\n",
    "plt.xlim([0.0, 1.0])\n",
    "plt.ylim([0.0, 1.05])\n",
    "plt.xlabel('False Positive Rate')\n",
    "plt.ylabel('True Positive Rate')\n",
    "plt.title('Receiver Operating Characteristic (ROC)')\n",
    "plt.legend(loc=\"lower right\")\n",
    "plt.grid()\n",
    "plt.savefig('roc_auc_curve.png')\n",
    "plt.show()"
   ]
  },
  {
   "cell_type": "code",
   "execution_count": null,
   "id": "44e28abc-0854-4ee0-80a1-31ec093e4583",
   "metadata": {},
   "outputs": [],
   "source": [
    "np.save('y_true_model2.npy', y_true)\n",
    "np.save('y_pred_proba_model2.npy', y_pred)"
   ]
  }
 ],
 "metadata": {
  "kernelspec": {
   "display_name": "Python 3 (ipykernel)",
   "language": "python",
   "name": "python3"
  },
  "language_info": {
   "codemirror_mode": {
    "name": "ipython",
    "version": 3
   },
   "file_extension": ".py",
   "mimetype": "text/x-python",
   "name": "python",
   "nbconvert_exporter": "python",
   "pygments_lexer": "ipython3",
   "version": "3.11.7"
  }
 },
 "nbformat": 4,
 "nbformat_minor": 5
}
